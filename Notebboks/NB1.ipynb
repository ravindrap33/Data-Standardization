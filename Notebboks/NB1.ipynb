{
 "cells": [
  {
   "cell_type": "code",
   "execution_count": 0,
   "metadata": {
    "application/vnd.databricks.v1+cell": {
     "cellMetadata": {},
     "inputWidgets": {},
     "nuid": "b5f90ff1-58a7-43b0-92b3-bc6658d67d39",
     "showTitle": false,
     "tableResultSettingsMap": {},
     "title": ""
    }
   },
   "outputs": [],
   "source": [
    "%python\n",
    "print(\"hello\")\n",
    "print(\"hi\")"
   ]
  },
  {
   "cell_type": "code",
   "execution_count": 0,
   "metadata": {
    "application/vnd.databricks.v1+cell": {
     "cellMetadata": {
      "byteLimit": 2048000,
      "rowLimit": 10000
     },
     "inputWidgets": {},
     "nuid": "9e90f17d-7788-474f-8758-20e68be9cb0e",
     "showTitle": false,
     "tableResultSettingsMap": {},
     "title": ""
    }
   },
   "outputs": [],
   "source": [
    "describe raw_resume_data"
   ]
  },
  {
   "cell_type": "code",
   "execution_count": 0,
   "metadata": {
    "application/vnd.databricks.v1+cell": {
     "cellMetadata": {
      "byteLimit": 2048000,
      "rowLimit": 10000
     },
     "inputWidgets": {},
     "nuid": "ddec4b4d-738b-49ed-863e-9a6536edd76d",
     "showTitle": true,
     "tableResultSettingsMap": {},
     "title": "Top 10 Raw Resume Data Subset"
    }
   },
   "outputs": [],
   "source": [
    "select * from raw_resume_data limit 10"
   ]
  },
  {
   "cell_type": "code",
   "execution_count": 0,
   "metadata": {
    "application/vnd.databricks.v1+cell": {
     "cellMetadata": {
      "byteLimit": 2048000,
      "rowLimit": 10000
     },
     "inputWidgets": {},
     "nuid": "bbd11e02-4026-4a4b-9d12-f4e7103b1811",
     "showTitle": true,
     "tableResultSettingsMap": {},
     "title": "Skill Exploding"
    }
   },
   "outputs": [],
   "source": [
    "with exp_skill as (\n",
    "  select resume_id, name, job_title, skills, location, date, experience_years, skill\n",
    "  from raw_resume_data \n",
    "  lateral view explode(split(skills, ' ')) as skill\n",
    ")\n",
    "select resume_id,name,skill from exp_skill limit 10"
   ]
  },
  {
   "cell_type": "code",
   "execution_count": 0,
   "metadata": {
    "application/vnd.databricks.v1+cell": {
     "cellMetadata": {
      "byteLimit": 2048000,
      "rowLimit": 10000
     },
     "inputWidgets": {},
     "nuid": "7250c88c-c1f4-4e17-a88b-772ceac3fd09",
     "showTitle": true,
     "tableResultSettingsMap": {},
     "title": "Top 10 Job Titles and Skills from Resume Data"
    }
   },
   "outputs": [],
   "source": [
    "with exp_skill as (\n",
    "  select resume_id, name, job_title, skills, location, date, experience_years, skill\n",
    "  from raw_resume_data \n",
    "  lateral view explode(split(skills, ' ')) as skill\n",
    ")\n",
    "select job_title,skill,count(skill) as total_skills from exp_skill group by job_title,skill order by total_skills desc limit 10"
   ]
  },
  {
   "cell_type": "code",
   "execution_count": 0,
   "metadata": {
    "application/vnd.databricks.v1+cell": {
     "cellMetadata": {},
     "inputWidgets": {},
     "nuid": "f4ba1158-9128-448d-a73d-972484ccb4cd",
     "showTitle": false,
     "tableResultSettingsMap": {},
     "title": ""
    }
   },
   "outputs": [],
   "source": []
  }
 ],
 "metadata": {
  "application/vnd.databricks.v1+notebook": {
   "computePreferences": null,
   "dashboards": [],
   "environmentMetadata": {
    "base_environment": "",
    "environment_version": "2"
   },
   "language": "sql",
   "notebookMetadata": {
    "mostRecentlyExecutedCommandWithImplicitDF": {
     "commandId": 7083202003554999,
     "dataframes": [
      "_sqldf"
     ]
    },
    "pythonIndentUnit": 4
   },
   "notebookName": "NB1",
   "widgets": {}
  },
  "language_info": {
   "name": "sql"
  }
 },
 "nbformat": 4,
 "nbformat_minor": 0
}
